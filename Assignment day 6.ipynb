{
 "cells": [
  {
   "cell_type": "markdown",
   "metadata": {},
   "source": [
    "---Assuming that we have some email addresses in the \"username@companyname.com\" format, please write program\n",
    "to print the company name of a given email address. Both user names and company names are composed of letters\n",
    "only.\n",
    "Input Format:\n",
    "The first line of the input contains an email address.\n",
    "Output Format:\n",
    "Print the company name in single line.\n",
    "\n",
    "---Write a program that accepts a comma-separated sequence of words as input and prints the words in a comma\n",
    "separated sequence after sorting them alphabetically.\n",
    "Input Format:\n",
    "The first line of input contains words separated by the comma.\n",
    "Output Format:\n",
    "Print the sorted words separated by the comma. \n",
    "\n",
    "---Create your own Jupyter Notebook for Sets.\n",
    "\n",
    "---Given a list of n-1 numbers ranging from 1 to n, your task is to find the missing number. There are no duplicates.\n",
    "Input Format:\n",
    "The first line contains n-1 numbers with each number separated by a space.\n",
    "Output Format:\n",
    "Print the missing number\n",
    "\n",
    "\n",
    "---With a given list L, write a program to print this list L after removing all duplicate values with original order reserved.\n"
   ]
  },
  {
   "cell_type": "code",
   "execution_count": 1,
   "metadata": {},
   "outputs": [
    {
     "name": "stdout",
     "output_type": "stream",
     "text": [
      "enter your email address: civil@google.com\n"
     ]
    },
    {
     "data": {
      "text/plain": [
       "'google'"
      ]
     },
     "execution_count": 1,
     "metadata": {},
     "output_type": "execute_result"
    }
   ],
   "source": [
    "## Question 1\n",
    "\n",
    "\n",
    "email = input('enter your email address: ')\n",
    "e = email.split('@')[1]\n",
    "e.split('.com')[0]"
   ]
  },
  {
   "cell_type": "code",
   "execution_count": 2,
   "metadata": {},
   "outputs": [
    {
     "name": "stdout",
     "output_type": "stream",
     "text": [
      "enter the words you want to sort: without,hello,bag,world\n",
      "['without', 'hello', 'bag', 'world']\n",
      "['bag', 'hello', 'without', 'world']\n"
     ]
    }
   ],
   "source": [
    "## Question 2\n",
    "\n",
    "words = input(\"enter the words you want to sort: \").split(',')\n",
    "lst = list(words)\n",
    "print(lst)\n",
    "print(sorted(lst))"
   ]
  },
  {
   "cell_type": "code",
   "execution_count": 7,
   "metadata": {},
   "outputs": [
    {
     "name": "stdout",
     "output_type": "stream",
     "text": [
      "{'banana', 'apple', 'cherry'}\n",
      "{'banana', 'apple', 'cherry'}\n",
      "banana\n",
      "apple\n",
      "cherry\n",
      "True\n",
      "{'banana', 'apple', 'cherry', 'orange'}\n",
      "{'grapes', 'banana', 'apple', 'cherry', 'orange', 'mango'}\n",
      "3\n",
      "{'apple', 'cherry'}\n",
      "set()\n",
      "{1, 2, 'b', 3, 'c', 'a'}\n",
      "{1, 2, 'b', 3, 'c', 'a'}\n"
     ]
    }
   ],
   "source": [
    "## Question 3\n",
    "\n",
    "# Set\n",
    "# ---A set is a collection which is unordered and unindexed. In Python sets are written with curly brackets.\n",
    "\n",
    "\n",
    "\n",
    "### to create a set\n",
    "\n",
    "example = {\"apple\", \"banana\", \"cherry\"}\n",
    "print(example)\n",
    "\n",
    "# --sets are unordered hence there is no specific order for the values so to access items we cannot use index....\n",
    "\n",
    "# ---we can also create a set using set constructor()\n",
    "\n",
    "exampleset = set((\"apple\", \"banana\", \"cherry\")) # note the double round-brackets\n",
    "print(exampleset)\n",
    "\n",
    "\n",
    "### to acess items\n",
    "\n",
    "# to acess sets we use loops\n",
    "\n",
    "\n",
    "example = {\"apple\", \"banana\", \"cherry\"}\n",
    "for x in example:\n",
    "    print(x)\n",
    "  \n",
    "  \n",
    "### to check the items in the set\n",
    "\n",
    "exampleset = {\"apple\", \"banana\", \"cherry\"}\n",
    "print(\"banana\" in exampleset)\n",
    "\n",
    "### to add the items\n",
    "\n",
    "# --- we cannot change items in set but we can add items into the set by the keyword add(). \n",
    "# To add multiple words we use update()\n",
    "\n",
    "example = {\"apple\", \"banana\", \"cherry\"}\n",
    "example.add(\"orange\")\n",
    "print(example)\n",
    "# _________________\n",
    "\n",
    "example = {\"apple\", \"banana\", \"cherry\"}\n",
    "example.update([\"orange\", \"mango\", \"grapes\"])\n",
    "print(example)\n",
    "\n",
    "\n",
    "###  number of words in a set\n",
    "\n",
    "example = {\"apple\", \"banana\", \"cherry\"}\n",
    "print(len(example))\n",
    "\n",
    "\n",
    "###  to remove items in set\n",
    "\n",
    "# ---- we can remove items in a set. but if the item we want remove is not in the set then it shows an error.\n",
    "\n",
    "example = {\"apple\", \"banana\", \"cherry\"}\n",
    "example.remove(\"banana\")\n",
    "print(example)\n",
    "\n",
    "# ---- we can also use the key word discardin plaxce of remove. we cvan also use the key word pop to \n",
    "# only remove the last word, but as they are unordered we dont know which item it will remove. \n",
    "\n",
    "### to delete the total set\n",
    "# ----we use clr() method to remove all the elements in it.we use del word also in place of clr()\n",
    "\n",
    "example = {\"apple\", \"banana\", \"cherry\"}\n",
    "example.clear()\n",
    "print(example)\n",
    "\n",
    "### to join 2 sets\n",
    "\n",
    "# ----There are several ways to join two or more sets in Python. if we use union() then it will create a new set \n",
    "# jioning the parent sets. but if we use update()then it will join the 2 sets into one of the parent set. \n",
    "# here these two functions exclude the duplicate items.\n",
    "\n",
    "# ----union()\n",
    "set1 = {\"a\", \"b\" , \"c\"}\n",
    "set2 = {1, 2, 3}\n",
    "set3 = set1.union(set2)\n",
    "print(set3)\n",
    "\n",
    "# ---update()\n",
    "set1 = {\"a\", \"b\" , \"c\"}\n",
    "set2 = {1, 2, 3}\n",
    "set1.update(set2)\n",
    "print(set1)\n"
   ]
  },
  {
   "cell_type": "code",
   "execution_count": 1,
   "metadata": {},
   "outputs": [
    {
     "name": "stdout",
     "output_type": "stream",
     "text": [
      "Enter the list numbers separated by space 1 2 3 5 8 10\n",
      "User List:  [1, 2, 3, 5, 8, 10]\n",
      "[4, 6, 7, 9]\n"
     ]
    }
   ],
   "source": [
    "### Question 4\n",
    "\n",
    "def missing(list):\n",
    "    return sorted(set(range(lst[0], lst[-1])) - set(lst)) \n",
    "\n",
    "lst = list(map(int, input(\"Enter the list numbers separated by space \").strip().split()))\n",
    "print(\"User List: \", lst)\n",
    "y = missing(lst)\n",
    "print(y)"
   ]
  },
  {
   "cell_type": "code",
   "execution_count": 7,
   "metadata": {},
   "outputs": [
    {
     "name": "stdout",
     "output_type": "stream",
     "text": [
      "Enter the list numbers separated by space 1 22 22 22 22 22 24 24 24 24 23 23 23\n",
      "[1, 22, 24, 23]\n"
     ]
    }
   ],
   "source": [
    "### Question 5\n",
    "\n",
    "def delete_extra(list):\n",
    "    final  = []\n",
    "    for i in list:\n",
    "        if i not in final:\n",
    "            final.append(i)   \n",
    "    return final\n",
    "\n",
    "lst = list(map(int, input(\"Enter the list numbers separated by space \").strip().split()))\n",
    "y = delete_extra(lst)\n",
    "print(y)"
   ]
  },
  {
   "cell_type": "code",
   "execution_count": null,
   "metadata": {},
   "outputs": [],
   "source": []
  }
 ],
 "metadata": {
  "kernelspec": {
   "display_name": "Python 3",
   "language": "python",
   "name": "python3"
  },
  "language_info": {
   "codemirror_mode": {
    "name": "ipython",
    "version": 3
   },
   "file_extension": ".py",
   "mimetype": "text/x-python",
   "name": "python",
   "nbconvert_exporter": "python",
   "pygments_lexer": "ipython3",
   "version": "3.7.6"
  }
 },
 "nbformat": 4,
 "nbformat_minor": 4
}
