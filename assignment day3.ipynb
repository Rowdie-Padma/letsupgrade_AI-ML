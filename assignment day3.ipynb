{
 "cells": [
  {
   "cell_type": "code",
   "execution_count": 27,
   "metadata": {},
   "outputs": [
    {
     "name": "stdout",
     "output_type": "stream",
     "text": [
      "enter number: 2\n",
      "enter number: 3\n",
      "enter number: 4\n",
      "enter number: 5\n",
      "the given complex numbers are:\n",
      " (2+3j) \n",
      " (4+5j)\n",
      "The subraction of two given numbers is (-2-2j)\n"
     ]
    }
   ],
   "source": [
    "# Write a program to subtract two complex numbers \n",
    "\n",
    "a = int(input(\"enter number: \"))\n",
    "b = int(input(\"enter number: \"))\n",
    "c = int(input(\"enter number: \"))\n",
    "d = int(input(\"enter number: \"))\n",
    "z1 = complex(a,b)\n",
    "z2 = complex(c,d)\n",
    "print(\"the given complex numbers are:\\n\",z1,\"\\n\",z2)\n",
    "print(\"The subraction of two given numbers is\",z1-z2)\n"
   ]
  },
  {
   "cell_type": "code",
   "execution_count": 29,
   "metadata": {},
   "outputs": [
    {
     "data": {
      "text/plain": [
       "(-2-2j)"
      ]
     },
     "execution_count": 29,
     "metadata": {},
     "output_type": "execute_result"
    }
   ],
   "source": [
    "(2+3j)-(4+5j)"
   ]
  },
  {
   "cell_type": "code",
   "execution_count": 35,
   "metadata": {},
   "outputs": [
    {
     "name": "stdout",
     "output_type": "stream",
     "text": [
      "enter a number: 625\n",
      "5.0\n"
     ]
    }
   ],
   "source": [
    "# Write a program to find the fourth root of a number\n",
    "\n",
    "a = int(input(\"enter a number: \"))\n",
    "y = a**(1/4)\n",
    "print(y)"
   ]
  },
  {
   "cell_type": "code",
   "execution_count": 47,
   "metadata": {},
   "outputs": [
    {
     "name": "stdout",
     "output_type": "stream",
     "text": [
      "enter the first number: 56\n",
      "enter the second number: 98\n",
      "the given numbers are: \n",
      " 56 \n",
      " 98\n",
      "after swapping the numbers are: \n",
      " 98 \n",
      " 56\n"
     ]
    }
   ],
   "source": [
    "# Write a program to swap two numbers in Python with the help of a \n",
    "# temporary variable.\n",
    "a = int(input(\"enter the first number: \"))\n",
    "b = int(input(\"enter the second number: \"))\n",
    "print(\"the given numbers are: \\n\",a,\"\\n\",b)\n",
    "#now swapping the two numbers\n",
    "c = a\n",
    "a = b \n",
    "b = c\n",
    "print(\"after swapping the numbers are: \\n\",a,\"\\n\",b)"
   ]
  },
  {
   "cell_type": "code",
   "execution_count": 49,
   "metadata": {},
   "outputs": [
    {
     "name": "stdout",
     "output_type": "stream",
     "text": [
      "enter the first number: 45\n",
      "enter the second number: 47\n",
      "the given numbers are: \n",
      " 45 \n",
      " 47\n",
      "after swapping the numbers are: \n",
      " 47 \n",
      " 45\n"
     ]
    }
   ],
   "source": [
    "# Write a program to swap two numbers in Python without using a\n",
    "# temporary variable\n",
    "\n",
    "a = int(input(\"enter the first number: \"))\n",
    "b = int(input(\"enter the second number: \"))\n",
    "print(\"the given numbers are: \\n\",a,\"\\n\",b)\n",
    "a,b = b,a\n",
    "print(\"after swapping the numbers are: \\n\",a,\"\\n\",b)"
   ]
  },
  {
   "cell_type": "code",
   "execution_count": 56,
   "metadata": {},
   "outputs": [
    {
     "name": "stdout",
     "output_type": "stream",
     "text": [
      "the temperature in fahrenheit: 212\n",
      "Then the temperature in degrees celcius is:  100.0\n",
      " and the temperature in kelvin is:  373.0\n"
     ]
    }
   ],
   "source": [
    "# Write a program to convert fahrenheit to kelvin and celsius both\n",
    "f = int(input(\"the temperature in fahrenheit: \"))\n",
    "c = (f-32)*100/180\n",
    "print(\"Then the temperature in degrees celcius is: \",c)\n",
    "k = c + 273\n",
    "print(\" and the temperature in kelvin is: \",k)\n"
   ]
  },
  {
   "cell_type": "code",
   "execution_count": 61,
   "metadata": {},
   "outputs": [
    {
     "name": "stdout",
     "output_type": "stream",
     "text": [
      "<class 'int'>\n",
      "<class 'int'>\n",
      "<class 'str'>\n",
      "<class 'complex'>\n",
      "<class 'float'>\n"
     ]
    }
   ],
   "source": [
    "# Write a program to demonstrate all the\n",
    "#available data types in Python.\n",
    "# Hint: Use type() function.\n",
    "lst = (1,12345677,\"hi yaar\",56j,1.25)\n",
    "for item in lst:\n",
    "    print(type(item))"
   ]
  },
  {
   "cell_type": "markdown",
   "metadata": {},
   "source": [
    "### Create a Markdown cell in jupyter and list the steps discussed in the session by Dr. Darshan ingle sir to create Github profile and upload Githubs Assignment link.\n",
    "\n",
    "- first create a profile i.e sign up for the gitshub.\n",
    "- then create a repositary named as letsupgrade ai - ml \n",
    "- write the description as assignment.\n",
    "- then upload the assignment by dragging it or selecting it in the folder\n",
    "\n"
   ]
  },
  {
   "cell_type": "code",
   "execution_count": null,
   "metadata": {},
   "outputs": [],
   "source": []
  }
 ],
 "metadata": {
  "kernelspec": {
   "display_name": "Python 3",
   "language": "python",
   "name": "python3"
  },
  "language_info": {
   "codemirror_mode": {
    "name": "ipython",
    "version": 3
   },
   "file_extension": ".py",
   "mimetype": "text/x-python",
   "name": "python",
   "nbconvert_exporter": "python",
   "pygments_lexer": "ipython3",
   "version": "3.7.6"
  }
 },
 "nbformat": 4,
 "nbformat_minor": 4
}
