{
 "cells": [
  {
   "cell_type": "markdown",
   "metadata": {},
   "source": [
    "----Question 1 :\n",
    "Research on whether addition, subtraction, multiplication, division, floor division and modulo operations be performed on complex numbers. Based on your study, implement a Python program to demonstrate these operations.\n",
    "\n",
    "----Question 2 :\n",
    "Research on range() functions and its parameters. Create a markdown cell and write in your own\n",
    "words (no copy-paste from google please) what you understand about it. Implement a small program of your choice on the same.\n",
    "\n",
    "-----Question 3:\n",
    " Consider two numbers. Perform their subtraction and if the result of subtraction is greater than 25, print their multiplication result else print their division result.\n",
    " \n",
    "------Question 4:\n",
    "Consider a list of 10 elements of integer values. If the number in the list is divisible by 2, print the result as \"square of that number minus 2\".\n",
    "\n",
    "------Question 5:\n",
    "Consider a list of 10 elements. Print all the elements in the list which are greater than 7 when that number is divided 2"
   ]
  },
  {
   "cell_type": "code",
   "execution_count": null,
   "metadata": {},
   "outputs": [],
   "source": []
  },
  {
   "cell_type": "code",
   "execution_count": 5,
   "metadata": {},
   "outputs": [
    {
     "name": "stdout",
     "output_type": "stream",
     "text": [
      "enter number: 2\n",
      "enter number: 3\n",
      "enter number: 4\n",
      "enter number: 5\n",
      "the given complex numbers are:\n",
      " (2+3j) \n",
      " (4+5j)\n",
      "addition of two complex numbers is:  (6+8j)\n",
      "subtraction of two complex numbers is:  (-2-2j)\n",
      "multiplication of two complex numbers is:  (-7+22j)\n",
      "division of two complex numbers is:  (0.5609756097560976+0.0487804878048781j)\n"
     ]
    }
   ],
   "source": [
    "#Research on whether addition, subtraction, multiplication, \n",
    "# division, floor division and modulo operations be\n",
    "# performed on complex numbers. Based on your study, \n",
    "# implement a Python program to demonstrate these operations.\n",
    "\n",
    "\n",
    "### floor division and modulo operations \n",
    "# cannot be performed on complex numbers as these funtctions do \n",
    "# not accept the complex numbers as operands\n",
    "\n",
    "\n",
    "a = int(input(\"enter number: \"))\n",
    "b = int(input(\"enter number: \"))\n",
    "c = int(input(\"enter number: \"))\n",
    "d = int(input(\"enter number: \"))\n",
    "z1 = complex(a,b)\n",
    "z2 = complex(c,d)\n",
    "print(\"the given complex numbers are:\\n\",z1,\"\\n\",z2)\n",
    "print(\"addition of two complex numbers is: \", z1+z2)\n",
    "print(\"subtraction of two complex numbers is: \", z1-z2)\n",
    "print(\"multiplication of two complex numbers is: \", z1*z2)\n",
    "print(\"division of two complex numbers is: \", z1/z2)\n"
   ]
  },
  {
   "cell_type": "markdown",
   "metadata": {},
   "source": [
    "### Research on range() functions and its parameters.Create a markdown cell and write in your ownwords (no copy-paste from google please) what you understand about it. Implement a small program of your choice on the same.\n",
    "\n",
    "\n",
    "- range function is used when we need a continous sequence of any numbers\n",
    "- that means if we give 2 arguments i mean if we give the last and first numbers of a sequence it gives the sequence.\n",
    "- it prints the numbers between the numbers and do not print the last number.\n",
    "- following is the example of range function"
   ]
  },
  {
   "cell_type": "code",
   "execution_count": 8,
   "metadata": {},
   "outputs": [
    {
     "name": "stdout",
     "output_type": "stream",
     "text": [
      "0\n",
      "1\n",
      "2\n",
      "3\n",
      "4\n",
      "5\n",
      "6\n",
      "7\n",
      "8\n",
      "9\n",
      "10\n",
      "11\n",
      "12\n",
      "13\n",
      "14\n",
      "15\n",
      "16\n",
      "17\n",
      "18\n",
      "19\n",
      "20\n",
      "21\n",
      "22\n",
      "23\n",
      "24\n",
      "25\n",
      "26\n",
      "27\n",
      "28\n",
      "29\n",
      "30\n",
      "31\n",
      "32\n",
      "33\n",
      "34\n",
      "35\n",
      "36\n",
      "37\n",
      "38\n",
      "39\n",
      "40\n",
      "41\n",
      "42\n",
      "43\n",
      "44\n",
      "45\n",
      "46\n",
      "47\n",
      "48\n",
      "49\n"
     ]
    }
   ],
   "source": [
    "for i in range(0,50):\n",
    "    print(i)"
   ]
  },
  {
   "cell_type": "code",
   "execution_count": 3,
   "metadata": {},
   "outputs": [
    {
     "name": "stdout",
     "output_type": "stream",
     "text": [
      "Enter the first number: 52\n",
      "Enter the second number: 65\n",
      "The division of two numbers is: \n",
      " 0.8\n"
     ]
    }
   ],
   "source": [
    "# Consider two numbers. Perform their subtraction and if the result of\n",
    "# subtraction is greater than 25, print their multiplication result else\n",
    "# print their division result.\n",
    "\n",
    "a = int(input(\"Enter the first number: \"))\n",
    "b = int(input(\"Enter the second number: \"))\n",
    "y = a - b\n",
    "if y > 25:\n",
    "    print(\"The multiplication of those numbers: \\n\",a*b)\n",
    "else :\n",
    "    print(\"The division of two numbers is: \\n\",a/b)"
   ]
  },
  {
   "cell_type": "code",
   "execution_count": 2,
   "metadata": {},
   "outputs": [
    {
     "name": "stdout",
     "output_type": "stream",
     "text": [
      "enter number: 5\n",
      "enter number: 5664\n",
      "enter number: 79\n",
      "enter number: 2\n",
      "enter number: 48567\n",
      "enter number: 997\n",
      "enter number: 857\n",
      "enter number: 867\n",
      "enter number: 89\n",
      "enter number: 88\n",
      "[5, 5664, 79, 2, 48567, 997, 857, 867, 89, 88]\n",
      "5 it is not divisible by 2 \n",
      "\n",
      "5664 is given number its square root is : \n",
      "   32080894 \n",
      "\n",
      "79 it is not divisible by 2 \n",
      "\n",
      "2 is given number its square root is : \n",
      "   2 \n",
      "\n",
      "48567 it is not divisible by 2 \n",
      "\n",
      "997 it is not divisible by 2 \n",
      "\n",
      "857 it is not divisible by 2 \n",
      "\n",
      "867 it is not divisible by 2 \n",
      "\n",
      "89 it is not divisible by 2 \n",
      "\n",
      "88 is given number its square root is : \n",
      "   7742 \n",
      "\n"
     ]
    }
   ],
   "source": [
    "#  Consider a list of 10 elements of integer values. \n",
    "# If the number in the list is divisible by 2, \n",
    "# print the result as \"square of that number minus 2\".\n",
    "\n",
    "\n",
    "lst = []\n",
    "for i in range(0,10):\n",
    "    num = int(input(\"enter number: \"))\n",
    "    lst.append(num)\n",
    "    \n",
    "print(lst)    \n",
    "for i in lst:\n",
    "    if i % 2 == 0:\n",
    "        y = (i**2)-2\n",
    "        print(i,\"is given number its square root is : \\n  \",y,\"\\n\")\n",
    "    else :\n",
    "        print(i,\"it is not divisible by 2\",\"\\n\")"
   ]
  },
  {
   "cell_type": "code",
   "execution_count": 4,
   "metadata": {},
   "outputs": [
    {
     "name": "stdout",
     "output_type": "stream",
     "text": [
      "enter number: 45\n",
      "enter number: 35\n",
      "enter number: 48\n",
      "enter number: 98\n",
      "enter number: 2\n",
      "enter number: 5\n",
      "enter number: 3\n",
      "enter number: 4\n",
      "enter number: 123\n",
      "enter number: 35\n",
      "[45, 35, 48, 98, 2, 5, 3, 4, 123, 35]\n",
      "it is not divisible by 2\n",
      "it is not divisible by 2\n",
      "48\n",
      "98\n",
      "it is not divisible by 2\n",
      "it is not divisible by 2\n",
      "it is not divisible by 2\n",
      "it is not divisible by 2\n"
     ]
    }
   ],
   "source": [
    "# Consider a list of 10 elements. Print all the elements \n",
    "# in the list which are greater than 7 when that number is divided 2\n",
    "\n",
    "lst = []\n",
    "for i in range(0,10):\n",
    "    num = int(input(\"enter number: \"))\n",
    "    lst.append(num)\n",
    "    \n",
    "print(lst) \n",
    "for i in lst:\n",
    "    if i%2 == 0:\n",
    "        if i>7:\n",
    "            print(i)\n",
    "    else:\n",
    "        print(\"it is not divisible by 2\")"
   ]
  },
  {
   "cell_type": "code",
   "execution_count": null,
   "metadata": {},
   "outputs": [],
   "source": []
  }
 ],
 "metadata": {
  "kernelspec": {
   "display_name": "Python 3",
   "language": "python",
   "name": "python3"
  },
  "language_info": {
   "codemirror_mode": {
    "name": "ipython",
    "version": 3
   },
   "file_extension": ".py",
   "mimetype": "text/x-python",
   "name": "python",
   "nbconvert_exporter": "python",
   "pygments_lexer": "ipython3",
   "version": "3.7.6"
  }
 },
 "nbformat": 4,
 "nbformat_minor": 4
}
